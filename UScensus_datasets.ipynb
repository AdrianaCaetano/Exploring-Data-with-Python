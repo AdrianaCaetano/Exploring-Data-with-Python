{
  "nbformat": 4,
  "nbformat_minor": 0,
  "metadata": {
    "colab": {
      "provenance": [],
      "collapsed_sections": [
        "3dvZ_kuQuhKT"
      ],
      "authorship_tag": "ABX9TyNQzodf6oPGXrJ7idmYoCfe",
      "include_colab_link": true
    },
    "kernelspec": {
      "name": "python3",
      "display_name": "Python 3"
    },
    "language_info": {
      "name": "python"
    }
  },
  "cells": [
    {
      "cell_type": "markdown",
      "metadata": {
        "id": "view-in-github",
        "colab_type": "text"
      },
      "source": [
        "<a href=\"https://colab.research.google.com/github/AdrianaCaetano/Exploring-Data-with-Python/blob/main/UScensus_datasets.ipynb\" target=\"_parent\"><img src=\"https://colab.research.google.com/assets/colab-badge.svg\" alt=\"Open In Colab\"/></a>"
      ]
    },
    {
      "cell_type": "markdown",
      "source": [
        "# Import Data from US Census\n",
        "\n",
        "1. Get a Census API key [here](https://api.census.gov/data/key_signup.html)\n",
        "2. Save the file into your drive or upload it into the notebook for easy access\n",
        "\n",
        "Check the available APIs [here](https://www.census.gov/data/developers/data-sets.html).  \n",
        "\n",
        "The examples bellow fetch data from:\n",
        "\n",
        "- **American Community Survey (ACS)**: Covers a range of topics about social, economic, demographic, and housing characteristics of the U.S. population.\n",
        "\n",
        "\n",
        "- **Geography Program**: \n",
        "    - Census Geocoding Services: Geocoding is the process of inputting an address and receiving back latitude/longitude coordinates calculated along an address range\n",
        "\n",
        "    - Census TIGERweb GeoServices: The GeoServices REST Specification provides a standard way for web clients to communicate with geographic information system (GIS) servers through Representational State Transfer (REST) technology. Clients issue requests to the server through structured URLs. The server responds with map images, text-based geographic information, or other resources that satisfy the request\n",
        "\n",
        "\n",
        "\n",
        "\n",
        "- [US Census Geometry]()\n",
        "\n",
        "\n",
        "References: \n",
        "- [US Census API User Guide](https://www.census.gov/data/developers/guidance/api-user-guide.Example_API_Queries.html)\n",
        "- [How to Get Total Population from the Census API using Python by Ariel Herrera](https://levelup.gitconnected.com/how-to-get-total-population-from-the-census-api-using-python-bbf23758bfa7)\n",
        "- [Using the U.S. Census Bureau API with Python by Michael McManus](https://medium.com/@mcmanus_data_works/using-the-u-s-census-bureau-api-with-python-5c30ad34dbd7)"
      ],
      "metadata": {
        "id": "iFRQ0DkqyXnz"
      }
    },
    {
      "cell_type": "code",
      "source": [
        "! pip install geopandas\n"
      ],
      "metadata": {
        "id": "clVl1PeE1d2Z"
      },
      "execution_count": null,
      "outputs": []
    },
    {
      "cell_type": "code",
      "execution_count": null,
      "metadata": {
        "id": "0D9NGBjYdOa9"
      },
      "outputs": [],
      "source": [
        "# Imports\n",
        "import pandas as pd\n",
        "import geopandas as gpd\n",
        "import requests\n",
        "\n",
        "from matplotlib import pyplot as plt\n",
        "%matplotlib inline\n",
        "\n",
        "from census_api import key # import census api key from file"
      ]
    },
    {
      "cell_type": "markdown",
      "source": [
        "## ACS Data\n",
        "\n",
        "[US Census Population dataset](https://www.census.gov/data/developers/data-sets/acs-5year.html)"
      ],
      "metadata": {
        "id": "YyhfXC1LuN7B"
      }
    },
    {
      "cell_type": "code",
      "source": [
        "# Prepare the query for the ASC API request\n",
        "\n",
        "# ASC examples = https://api.census.gov/data/2010/acs/acs1/examples.html\n",
        "\n",
        "host = 'https://api.census.gov/data'\n",
        "year = '/2021'\n",
        "# Dataset Acronyms: https://api.census.gov/data.html\n",
        "dataset_acronym = '/acs/acs1'\n",
        "g = '?get='\n",
        "# Variables for the ACS: https://api.census.gov/data/2005/acs/acs1/variables.html\n",
        "variables = 'NAME,B01001_001E'\n",
        "location = '&for=state:*'\n",
        "usr_key = f\"&key={key}\"\n",
        "\n",
        "query_url = f\"{host}{year}{dataset_acronym}{g}{variables}{location}{usr_key}\"\n",
        "\n",
        "# request data\n",
        "response = requests.get(query_url)\n",
        "\n",
        "# view status code, 200 is successful \n",
        "response.status_code"
      ],
      "metadata": {
        "colab": {
          "base_uri": "https://localhost:8080/"
        },
        "id": "bJXJK0Eu02j5",
        "outputId": "aeb154af-e5e7-4fef-94a0-73f22d79b79b"
      },
      "execution_count": null,
      "outputs": [
        {
          "output_type": "execute_result",
          "data": {
            "text/plain": [
              "200"
            ]
          },
          "metadata": {},
          "execution_count": 3
        }
      ]
    },
    {
      "cell_type": "code",
      "source": [
        "# Save the response into a dataframe\n",
        "population_df = pd.DataFrame(\n",
        "    response.json()[1:], \n",
        "    columns=response.json()[0]\n",
        "    ).rename(columns={'B01001_001E':'total_population',\n",
        "                    'state': 'fips'}\n",
        "             )\n"
      ],
      "metadata": {
        "id": "dY7Kcdr8DgNG"
      },
      "execution_count": null,
      "outputs": []
    },
    {
      "cell_type": "code",
      "source": [
        "population_df.head()"
      ],
      "metadata": {
        "colab": {
          "base_uri": "https://localhost:8080/",
          "height": 206
        },
        "id": "5vePw-rKGTpf",
        "outputId": "a4aac16a-795b-41fa-ebad-649efb91f068"
      },
      "execution_count": null,
      "outputs": [
        {
          "output_type": "execute_result",
          "data": {
            "text/plain": [
              "          NAME total_population fips\n",
              "0      Alabama          5039877   01\n",
              "1  Puerto Rico          3263584   72\n",
              "2      Arizona          7276316   04\n",
              "3     Arkansas          3025891   05\n",
              "4   California         39237836   06"
            ],
            "text/html": [
              "\n",
              "  <div id=\"df-5b4ab43e-3827-4119-af9d-3c4dd34e0e25\">\n",
              "    <div class=\"colab-df-container\">\n",
              "      <div>\n",
              "<style scoped>\n",
              "    .dataframe tbody tr th:only-of-type {\n",
              "        vertical-align: middle;\n",
              "    }\n",
              "\n",
              "    .dataframe tbody tr th {\n",
              "        vertical-align: top;\n",
              "    }\n",
              "\n",
              "    .dataframe thead th {\n",
              "        text-align: right;\n",
              "    }\n",
              "</style>\n",
              "<table border=\"1\" class=\"dataframe\">\n",
              "  <thead>\n",
              "    <tr style=\"text-align: right;\">\n",
              "      <th></th>\n",
              "      <th>NAME</th>\n",
              "      <th>total_population</th>\n",
              "      <th>fips</th>\n",
              "    </tr>\n",
              "  </thead>\n",
              "  <tbody>\n",
              "    <tr>\n",
              "      <th>0</th>\n",
              "      <td>Alabama</td>\n",
              "      <td>5039877</td>\n",
              "      <td>01</td>\n",
              "    </tr>\n",
              "    <tr>\n",
              "      <th>1</th>\n",
              "      <td>Puerto Rico</td>\n",
              "      <td>3263584</td>\n",
              "      <td>72</td>\n",
              "    </tr>\n",
              "    <tr>\n",
              "      <th>2</th>\n",
              "      <td>Arizona</td>\n",
              "      <td>7276316</td>\n",
              "      <td>04</td>\n",
              "    </tr>\n",
              "    <tr>\n",
              "      <th>3</th>\n",
              "      <td>Arkansas</td>\n",
              "      <td>3025891</td>\n",
              "      <td>05</td>\n",
              "    </tr>\n",
              "    <tr>\n",
              "      <th>4</th>\n",
              "      <td>California</td>\n",
              "      <td>39237836</td>\n",
              "      <td>06</td>\n",
              "    </tr>\n",
              "  </tbody>\n",
              "</table>\n",
              "</div>\n",
              "      <button class=\"colab-df-convert\" onclick=\"convertToInteractive('df-5b4ab43e-3827-4119-af9d-3c4dd34e0e25')\"\n",
              "              title=\"Convert this dataframe to an interactive table.\"\n",
              "              style=\"display:none;\">\n",
              "        \n",
              "  <svg xmlns=\"http://www.w3.org/2000/svg\" height=\"24px\"viewBox=\"0 0 24 24\"\n",
              "       width=\"24px\">\n",
              "    <path d=\"M0 0h24v24H0V0z\" fill=\"none\"/>\n",
              "    <path d=\"M18.56 5.44l.94 2.06.94-2.06 2.06-.94-2.06-.94-.94-2.06-.94 2.06-2.06.94zm-11 1L8.5 8.5l.94-2.06 2.06-.94-2.06-.94L8.5 2.5l-.94 2.06-2.06.94zm10 10l.94 2.06.94-2.06 2.06-.94-2.06-.94-.94-2.06-.94 2.06-2.06.94z\"/><path d=\"M17.41 7.96l-1.37-1.37c-.4-.4-.92-.59-1.43-.59-.52 0-1.04.2-1.43.59L10.3 9.45l-7.72 7.72c-.78.78-.78 2.05 0 2.83L4 21.41c.39.39.9.59 1.41.59.51 0 1.02-.2 1.41-.59l7.78-7.78 2.81-2.81c.8-.78.8-2.07 0-2.86zM5.41 20L4 18.59l7.72-7.72 1.47 1.35L5.41 20z\"/>\n",
              "  </svg>\n",
              "      </button>\n",
              "      \n",
              "  <style>\n",
              "    .colab-df-container {\n",
              "      display:flex;\n",
              "      flex-wrap:wrap;\n",
              "      gap: 12px;\n",
              "    }\n",
              "\n",
              "    .colab-df-convert {\n",
              "      background-color: #E8F0FE;\n",
              "      border: none;\n",
              "      border-radius: 50%;\n",
              "      cursor: pointer;\n",
              "      display: none;\n",
              "      fill: #1967D2;\n",
              "      height: 32px;\n",
              "      padding: 0 0 0 0;\n",
              "      width: 32px;\n",
              "    }\n",
              "\n",
              "    .colab-df-convert:hover {\n",
              "      background-color: #E2EBFA;\n",
              "      box-shadow: 0px 1px 2px rgba(60, 64, 67, 0.3), 0px 1px 3px 1px rgba(60, 64, 67, 0.15);\n",
              "      fill: #174EA6;\n",
              "    }\n",
              "\n",
              "    [theme=dark] .colab-df-convert {\n",
              "      background-color: #3B4455;\n",
              "      fill: #D2E3FC;\n",
              "    }\n",
              "\n",
              "    [theme=dark] .colab-df-convert:hover {\n",
              "      background-color: #434B5C;\n",
              "      box-shadow: 0px 1px 3px 1px rgba(0, 0, 0, 0.15);\n",
              "      filter: drop-shadow(0px 1px 2px rgba(0, 0, 0, 0.3));\n",
              "      fill: #FFFFFF;\n",
              "    }\n",
              "  </style>\n",
              "\n",
              "      <script>\n",
              "        const buttonEl =\n",
              "          document.querySelector('#df-5b4ab43e-3827-4119-af9d-3c4dd34e0e25 button.colab-df-convert');\n",
              "        buttonEl.style.display =\n",
              "          google.colab.kernel.accessAllowed ? 'block' : 'none';\n",
              "\n",
              "        async function convertToInteractive(key) {\n",
              "          const element = document.querySelector('#df-5b4ab43e-3827-4119-af9d-3c4dd34e0e25');\n",
              "          const dataTable =\n",
              "            await google.colab.kernel.invokeFunction('convertToInteractive',\n",
              "                                                     [key], {});\n",
              "          if (!dataTable) return;\n",
              "\n",
              "          const docLinkHtml = 'Like what you see? Visit the ' +\n",
              "            '<a target=\"_blank\" href=https://colab.research.google.com/notebooks/data_table.ipynb>data table notebook</a>'\n",
              "            + ' to learn more about interactive tables.';\n",
              "          element.innerHTML = '';\n",
              "          dataTable['output_type'] = 'display_data';\n",
              "          await google.colab.output.renderOutput(dataTable, element);\n",
              "          const docLink = document.createElement('div');\n",
              "          docLink.innerHTML = docLinkHtml;\n",
              "          element.appendChild(docLink);\n",
              "        }\n",
              "      </script>\n",
              "    </div>\n",
              "  </div>\n",
              "  "
            ]
          },
          "metadata": {},
          "execution_count": 5
        }
      ]
    },
    {
      "cell_type": "code",
      "source": [
        "population_df.shape"
      ],
      "metadata": {
        "colab": {
          "base_uri": "https://localhost:8080/"
        },
        "id": "yblgvtTDB8aB",
        "outputId": "26aaaa25-6834-4303-9179-cdd61c985f6a"
      },
      "execution_count": null,
      "outputs": [
        {
          "output_type": "execute_result",
          "data": {
            "text/plain": [
              "(52, 3)"
            ]
          },
          "metadata": {},
          "execution_count": 6
        }
      ]
    },
    {
      "cell_type": "code",
      "source": [
        "population_df.info()"
      ],
      "metadata": {
        "colab": {
          "base_uri": "https://localhost:8080/"
        },
        "id": "56J7FAIdM4qs",
        "outputId": "9eb6e731-6cf8-4afb-f034-43b9a7564880"
      },
      "execution_count": null,
      "outputs": [
        {
          "output_type": "stream",
          "name": "stdout",
          "text": [
            "<class 'pandas.core.frame.DataFrame'>\n",
            "RangeIndex: 52 entries, 0 to 51\n",
            "Data columns (total 3 columns):\n",
            " #   Column            Non-Null Count  Dtype \n",
            "---  ------            --------------  ----- \n",
            " 0   NAME              52 non-null     object\n",
            " 1   total_population  52 non-null     object\n",
            " 2   fips              52 non-null     object\n",
            "dtypes: object(3)\n",
            "memory usage: 1.3+ KB\n"
          ]
        }
      ]
    },
    {
      "cell_type": "code",
      "source": [
        "# Change total population to int\n",
        "\n",
        "population_df['total_population'] = pd.to_numeric(population_df['total_population'])"
      ],
      "metadata": {
        "id": "GFnt08mGXKsP"
      },
      "execution_count": null,
      "outputs": []
    },
    {
      "cell_type": "code",
      "source": [
        "# Change fips to int\n",
        "\n",
        "population_df['fips'] = pd.to_numeric(population_df['fips'])"
      ],
      "metadata": {
        "id": "qxB_Zs_hDIEy"
      },
      "execution_count": null,
      "outputs": []
    },
    {
      "cell_type": "code",
      "source": [
        "population_df.info()"
      ],
      "metadata": {
        "colab": {
          "base_uri": "https://localhost:8080/"
        },
        "id": "xyIy0zxVDlYg",
        "outputId": "115ff70f-c45b-4262-b04a-11ddcc7b1201"
      },
      "execution_count": null,
      "outputs": [
        {
          "output_type": "stream",
          "name": "stdout",
          "text": [
            "<class 'pandas.core.frame.DataFrame'>\n",
            "RangeIndex: 52 entries, 0 to 51\n",
            "Data columns (total 3 columns):\n",
            " #   Column            Non-Null Count  Dtype \n",
            "---  ------            --------------  ----- \n",
            " 0   NAME              52 non-null     object\n",
            " 1   total_population  52 non-null     int64 \n",
            " 2   fips              52 non-null     int64 \n",
            "dtypes: int64(2), object(1)\n",
            "memory usage: 1.3+ KB\n"
          ]
        }
      ]
    },
    {
      "cell_type": "markdown",
      "source": [
        "## Geography Data\n",
        "\n",
        "To query the API your request URL query string must include a for argument which defines the geography level and FIPS code(s).\n",
        "\n",
        "[US Census States Geography](https://www.census.gov/data/developers/geography.html)"
      ],
      "metadata": {
        "id": "3dvZ_kuQuhKT"
      }
    },
    {
      "cell_type": "code",
      "source": [
        "# Prepare the query for Geography request\n",
        "\n",
        "# Geography examples: https://api.census.gov/data/2010/dec/sf1/examples.html\n",
        "# https://api.census.gov/data/2010/dec/sf1?get=P001001,NAME&for=state:*&key=YOUR_KEY_GOES_HERE\n",
        "\n",
        "host = 'https://api.census.gov/data'\n",
        "year = '/2010'\n",
        "# Dataset Acronyms: https://api.census.gov/data.html\n",
        "dataset_acronym = '/dec/sf1'\n",
        "g = '?get='\n",
        "# Variables for the ACS: https://api.census.gov/data/2005/acs/acs1/variables.html\n",
        "variables = 'NAME,P001001'\n",
        "location = '&for=state:*' # for all states\n",
        "usr_key = f\"&key={key}\"\n",
        "\n",
        "query_url = f\"{host}{year}{dataset_acronym}{g}{variables}{location}{usr_key}\"\n",
        "\n",
        "# request data\n",
        "response = requests.get(query_url)\n",
        "\n",
        "# view status code, 200 is successful \n",
        "response.status_code"
      ],
      "metadata": {
        "id": "s98E3utsLgJC",
        "colab": {
          "base_uri": "https://localhost:8080/"
        },
        "outputId": "e89b2887-9f4e-4aa8-9dbe-c712fb840bca"
      },
      "execution_count": null,
      "outputs": [
        {
          "output_type": "execute_result",
          "data": {
            "text/plain": [
              "200"
            ]
          },
          "metadata": {},
          "execution_count": 62
        }
      ]
    },
    {
      "cell_type": "code",
      "source": [
        "# Save the response into a dataframe\n",
        "pop_df = pd.DataFrame(\n",
        "    response.json()[1:], \n",
        "    columns=response.json()[0] \n",
        "    ).rename(columns={'P001001':'total_population',\n",
        "                    'state': 'fips'}\n",
        "             )\n",
        "pop_df.head()"
      ],
      "metadata": {
        "id": "PXmScA2Fev1w",
        "colab": {
          "base_uri": "https://localhost:8080/",
          "height": 206
        },
        "outputId": "4c9766aa-a7f4-4f12-a59c-5cd307584b76"
      },
      "execution_count": null,
      "outputs": [
        {
          "output_type": "execute_result",
          "data": {
            "text/plain": [
              "         NAME total_population fips\n",
              "0     Alabama          4779736   01\n",
              "1      Alaska           710231   02\n",
              "2     Arizona          6392017   04\n",
              "3    Arkansas          2915918   05\n",
              "4  California         37253956   06"
            ],
            "text/html": [
              "\n",
              "  <div id=\"df-b436147a-79ac-4ebc-bedd-ea079aa6239e\">\n",
              "    <div class=\"colab-df-container\">\n",
              "      <div>\n",
              "<style scoped>\n",
              "    .dataframe tbody tr th:only-of-type {\n",
              "        vertical-align: middle;\n",
              "    }\n",
              "\n",
              "    .dataframe tbody tr th {\n",
              "        vertical-align: top;\n",
              "    }\n",
              "\n",
              "    .dataframe thead th {\n",
              "        text-align: right;\n",
              "    }\n",
              "</style>\n",
              "<table border=\"1\" class=\"dataframe\">\n",
              "  <thead>\n",
              "    <tr style=\"text-align: right;\">\n",
              "      <th></th>\n",
              "      <th>NAME</th>\n",
              "      <th>total_population</th>\n",
              "      <th>fips</th>\n",
              "    </tr>\n",
              "  </thead>\n",
              "  <tbody>\n",
              "    <tr>\n",
              "      <th>0</th>\n",
              "      <td>Alabama</td>\n",
              "      <td>4779736</td>\n",
              "      <td>01</td>\n",
              "    </tr>\n",
              "    <tr>\n",
              "      <th>1</th>\n",
              "      <td>Alaska</td>\n",
              "      <td>710231</td>\n",
              "      <td>02</td>\n",
              "    </tr>\n",
              "    <tr>\n",
              "      <th>2</th>\n",
              "      <td>Arizona</td>\n",
              "      <td>6392017</td>\n",
              "      <td>04</td>\n",
              "    </tr>\n",
              "    <tr>\n",
              "      <th>3</th>\n",
              "      <td>Arkansas</td>\n",
              "      <td>2915918</td>\n",
              "      <td>05</td>\n",
              "    </tr>\n",
              "    <tr>\n",
              "      <th>4</th>\n",
              "      <td>California</td>\n",
              "      <td>37253956</td>\n",
              "      <td>06</td>\n",
              "    </tr>\n",
              "  </tbody>\n",
              "</table>\n",
              "</div>\n",
              "      <button class=\"colab-df-convert\" onclick=\"convertToInteractive('df-b436147a-79ac-4ebc-bedd-ea079aa6239e')\"\n",
              "              title=\"Convert this dataframe to an interactive table.\"\n",
              "              style=\"display:none;\">\n",
              "        \n",
              "  <svg xmlns=\"http://www.w3.org/2000/svg\" height=\"24px\"viewBox=\"0 0 24 24\"\n",
              "       width=\"24px\">\n",
              "    <path d=\"M0 0h24v24H0V0z\" fill=\"none\"/>\n",
              "    <path d=\"M18.56 5.44l.94 2.06.94-2.06 2.06-.94-2.06-.94-.94-2.06-.94 2.06-2.06.94zm-11 1L8.5 8.5l.94-2.06 2.06-.94-2.06-.94L8.5 2.5l-.94 2.06-2.06.94zm10 10l.94 2.06.94-2.06 2.06-.94-2.06-.94-.94-2.06-.94 2.06-2.06.94z\"/><path d=\"M17.41 7.96l-1.37-1.37c-.4-.4-.92-.59-1.43-.59-.52 0-1.04.2-1.43.59L10.3 9.45l-7.72 7.72c-.78.78-.78 2.05 0 2.83L4 21.41c.39.39.9.59 1.41.59.51 0 1.02-.2 1.41-.59l7.78-7.78 2.81-2.81c.8-.78.8-2.07 0-2.86zM5.41 20L4 18.59l7.72-7.72 1.47 1.35L5.41 20z\"/>\n",
              "  </svg>\n",
              "      </button>\n",
              "      \n",
              "  <style>\n",
              "    .colab-df-container {\n",
              "      display:flex;\n",
              "      flex-wrap:wrap;\n",
              "      gap: 12px;\n",
              "    }\n",
              "\n",
              "    .colab-df-convert {\n",
              "      background-color: #E8F0FE;\n",
              "      border: none;\n",
              "      border-radius: 50%;\n",
              "      cursor: pointer;\n",
              "      display: none;\n",
              "      fill: #1967D2;\n",
              "      height: 32px;\n",
              "      padding: 0 0 0 0;\n",
              "      width: 32px;\n",
              "    }\n",
              "\n",
              "    .colab-df-convert:hover {\n",
              "      background-color: #E2EBFA;\n",
              "      box-shadow: 0px 1px 2px rgba(60, 64, 67, 0.3), 0px 1px 3px 1px rgba(60, 64, 67, 0.15);\n",
              "      fill: #174EA6;\n",
              "    }\n",
              "\n",
              "    [theme=dark] .colab-df-convert {\n",
              "      background-color: #3B4455;\n",
              "      fill: #D2E3FC;\n",
              "    }\n",
              "\n",
              "    [theme=dark] .colab-df-convert:hover {\n",
              "      background-color: #434B5C;\n",
              "      box-shadow: 0px 1px 3px 1px rgba(0, 0, 0, 0.15);\n",
              "      filter: drop-shadow(0px 1px 2px rgba(0, 0, 0, 0.3));\n",
              "      fill: #FFFFFF;\n",
              "    }\n",
              "  </style>\n",
              "\n",
              "      <script>\n",
              "        const buttonEl =\n",
              "          document.querySelector('#df-b436147a-79ac-4ebc-bedd-ea079aa6239e button.colab-df-convert');\n",
              "        buttonEl.style.display =\n",
              "          google.colab.kernel.accessAllowed ? 'block' : 'none';\n",
              "\n",
              "        async function convertToInteractive(key) {\n",
              "          const element = document.querySelector('#df-b436147a-79ac-4ebc-bedd-ea079aa6239e');\n",
              "          const dataTable =\n",
              "            await google.colab.kernel.invokeFunction('convertToInteractive',\n",
              "                                                     [key], {});\n",
              "          if (!dataTable) return;\n",
              "\n",
              "          const docLinkHtml = 'Like what you see? Visit the ' +\n",
              "            '<a target=\"_blank\" href=https://colab.research.google.com/notebooks/data_table.ipynb>data table notebook</a>'\n",
              "            + ' to learn more about interactive tables.';\n",
              "          element.innerHTML = '';\n",
              "          dataTable['output_type'] = 'display_data';\n",
              "          await google.colab.output.renderOutput(dataTable, element);\n",
              "          const docLink = document.createElement('div');\n",
              "          docLink.innerHTML = docLinkHtml;\n",
              "          element.appendChild(docLink);\n",
              "        }\n",
              "      </script>\n",
              "    </div>\n",
              "  </div>\n",
              "  "
            ]
          },
          "metadata": {},
          "execution_count": 63
        }
      ]
    },
    {
      "cell_type": "code",
      "source": [
        "pop_df.shape"
      ],
      "metadata": {
        "colab": {
          "base_uri": "https://localhost:8080/"
        },
        "id": "AvhKD_DRBSEP",
        "outputId": "5e9e52f8-fab2-4ae6-f9af-72c31952002f"
      },
      "execution_count": null,
      "outputs": [
        {
          "output_type": "execute_result",
          "data": {
            "text/plain": [
              "(52, 3)"
            ]
          },
          "metadata": {},
          "execution_count": 64
        }
      ]
    },
    {
      "cell_type": "markdown",
      "source": [
        "## TIGERWeb GeoFiles\n",
        "\n",
        "TigerWeb has a directory of html datafiles that can be downloaded as a table straight into a dataframe. It contains some basic geo location information such as latitude and longitude, and land and water area.  \n",
        "\n",
        "[List of files](https://tigerweb.geo.census.gov/tigerwebmain/TIGERweb_nation_based_files.html)"
      ],
      "metadata": {
        "id": "QoD_AWHdFaxW"
      }
    },
    {
      "cell_type": "code",
      "source": [
        "# Copy the url of the html file you want to download\n",
        "url = 'https://tigerweb.geo.census.gov/tigerwebmain/Files/bas23/tigerweb_bas23_state_2022_acs22_us.html'\n",
        "\n",
        "# Save into a dataframe\n",
        "state_df = pd.read_html(url)\n",
        "\n",
        "len(state_df)"
      ],
      "metadata": {
        "colab": {
          "base_uri": "https://localhost:8080/"
        },
        "id": "TenwQ6MNGVCl",
        "outputId": "25d51a7b-61a5-41e4-fb05-25706c81fec0"
      },
      "execution_count": null,
      "outputs": [
        {
          "output_type": "execute_result",
          "data": {
            "text/plain": [
              "1"
            ]
          },
          "metadata": {},
          "execution_count": 13
        }
      ]
    },
    {
      "cell_type": "code",
      "source": [
        "# it returned a list with one element, which is the table\n",
        "state_df = state_df[0]"
      ],
      "metadata": {
        "id": "D4cggNUgHrZ9"
      },
      "execution_count": null,
      "outputs": []
    },
    {
      "cell_type": "code",
      "source": [
        "type(state_df)"
      ],
      "metadata": {
        "colab": {
          "base_uri": "https://localhost:8080/"
        },
        "id": "YfhSj8JiIBrd",
        "outputId": "338df66b-22d3-4362-ed7e-6bbede495db5"
      },
      "execution_count": null,
      "outputs": [
        {
          "output_type": "execute_result",
          "data": {
            "text/plain": [
              "pandas.core.frame.DataFrame"
            ]
          },
          "metadata": {},
          "execution_count": 15
        }
      ]
    },
    {
      "cell_type": "code",
      "source": [
        "state_df.head()"
      ],
      "metadata": {
        "colab": {
          "base_uri": "https://localhost:8080/",
          "height": 270
        },
        "id": "BGzBmJP4IDIZ",
        "outputId": "a8b54a51-5e19-4ae8-90ee-19a1ed5d3fc7"
      },
      "execution_count": null,
      "outputs": [
        {
          "output_type": "execute_result",
          "data": {
            "text/plain": [
              "   MTFCC              OID  GEOID  STATE  STATENS    BASENAME        NAME  \\\n",
              "0  G4000    2745265038753      1      1  1779775     Alabama     Alabama   \n",
              "1  G4000    2745245059742      2      2  1785533      Alaska      Alaska   \n",
              "2  G4000  274521053753069      4      4  1779777     Arizona     Arizona   \n",
              "3  G4000    2745245148374      5      5    68085    Arkansas    Arkansas   \n",
              "4  G4000    2745218475066      6      6  1779778  California  California   \n",
              "\n",
              "   LSADC FUNCSTAT       AREALAND     AREAWATER  UR  REGION  DIVISION STUSAB  \\\n",
              "0      0        A   131185039975    4582335766 NaN       3       6.0     AL   \n",
              "1      0        A  1478942892154  245378380543 NaN       4       9.0     AK   \n",
              "2      0        A   294365830107     854014485 NaN       4       8.0     AZ   \n",
              "3      0        A   134660744864    3121972872 NaN       3       7.0     AR   \n",
              "4      0        A   403673658339   20291671562 NaN       4       9.0     CA   \n",
              "\n",
              "     CENTLAT     CENTLON   INTPTLAT    INTPTLON  \n",
              "0  32.743686  -86.846795  32.739579  -86.843447  \n",
              "1  63.413052 -152.879632  63.347356 -152.839733  \n",
              "2  34.275102 -111.660534  34.203936 -111.606345  \n",
              "3  34.894174  -92.441843  34.895526  -92.444626  \n",
              "4  37.154758 -119.527772  37.155177 -119.543418  "
            ],
            "text/html": [
              "\n",
              "  <div id=\"df-e2b7cd7e-e87e-4d4d-9407-ce7048728297\">\n",
              "    <div class=\"colab-df-container\">\n",
              "      <div>\n",
              "<style scoped>\n",
              "    .dataframe tbody tr th:only-of-type {\n",
              "        vertical-align: middle;\n",
              "    }\n",
              "\n",
              "    .dataframe tbody tr th {\n",
              "        vertical-align: top;\n",
              "    }\n",
              "\n",
              "    .dataframe thead th {\n",
              "        text-align: right;\n",
              "    }\n",
              "</style>\n",
              "<table border=\"1\" class=\"dataframe\">\n",
              "  <thead>\n",
              "    <tr style=\"text-align: right;\">\n",
              "      <th></th>\n",
              "      <th>MTFCC</th>\n",
              "      <th>OID</th>\n",
              "      <th>GEOID</th>\n",
              "      <th>STATE</th>\n",
              "      <th>STATENS</th>\n",
              "      <th>BASENAME</th>\n",
              "      <th>NAME</th>\n",
              "      <th>LSADC</th>\n",
              "      <th>FUNCSTAT</th>\n",
              "      <th>AREALAND</th>\n",
              "      <th>AREAWATER</th>\n",
              "      <th>UR</th>\n",
              "      <th>REGION</th>\n",
              "      <th>DIVISION</th>\n",
              "      <th>STUSAB</th>\n",
              "      <th>CENTLAT</th>\n",
              "      <th>CENTLON</th>\n",
              "      <th>INTPTLAT</th>\n",
              "      <th>INTPTLON</th>\n",
              "    </tr>\n",
              "  </thead>\n",
              "  <tbody>\n",
              "    <tr>\n",
              "      <th>0</th>\n",
              "      <td>G4000</td>\n",
              "      <td>2745265038753</td>\n",
              "      <td>1</td>\n",
              "      <td>1</td>\n",
              "      <td>1779775</td>\n",
              "      <td>Alabama</td>\n",
              "      <td>Alabama</td>\n",
              "      <td>0</td>\n",
              "      <td>A</td>\n",
              "      <td>131185039975</td>\n",
              "      <td>4582335766</td>\n",
              "      <td>NaN</td>\n",
              "      <td>3</td>\n",
              "      <td>6.0</td>\n",
              "      <td>AL</td>\n",
              "      <td>32.743686</td>\n",
              "      <td>-86.846795</td>\n",
              "      <td>32.739579</td>\n",
              "      <td>-86.843447</td>\n",
              "    </tr>\n",
              "    <tr>\n",
              "      <th>1</th>\n",
              "      <td>G4000</td>\n",
              "      <td>2745245059742</td>\n",
              "      <td>2</td>\n",
              "      <td>2</td>\n",
              "      <td>1785533</td>\n",
              "      <td>Alaska</td>\n",
              "      <td>Alaska</td>\n",
              "      <td>0</td>\n",
              "      <td>A</td>\n",
              "      <td>1478942892154</td>\n",
              "      <td>245378380543</td>\n",
              "      <td>NaN</td>\n",
              "      <td>4</td>\n",
              "      <td>9.0</td>\n",
              "      <td>AK</td>\n",
              "      <td>63.413052</td>\n",
              "      <td>-152.879632</td>\n",
              "      <td>63.347356</td>\n",
              "      <td>-152.839733</td>\n",
              "    </tr>\n",
              "    <tr>\n",
              "      <th>2</th>\n",
              "      <td>G4000</td>\n",
              "      <td>274521053753069</td>\n",
              "      <td>4</td>\n",
              "      <td>4</td>\n",
              "      <td>1779777</td>\n",
              "      <td>Arizona</td>\n",
              "      <td>Arizona</td>\n",
              "      <td>0</td>\n",
              "      <td>A</td>\n",
              "      <td>294365830107</td>\n",
              "      <td>854014485</td>\n",
              "      <td>NaN</td>\n",
              "      <td>4</td>\n",
              "      <td>8.0</td>\n",
              "      <td>AZ</td>\n",
              "      <td>34.275102</td>\n",
              "      <td>-111.660534</td>\n",
              "      <td>34.203936</td>\n",
              "      <td>-111.606345</td>\n",
              "    </tr>\n",
              "    <tr>\n",
              "      <th>3</th>\n",
              "      <td>G4000</td>\n",
              "      <td>2745245148374</td>\n",
              "      <td>5</td>\n",
              "      <td>5</td>\n",
              "      <td>68085</td>\n",
              "      <td>Arkansas</td>\n",
              "      <td>Arkansas</td>\n",
              "      <td>0</td>\n",
              "      <td>A</td>\n",
              "      <td>134660744864</td>\n",
              "      <td>3121972872</td>\n",
              "      <td>NaN</td>\n",
              "      <td>3</td>\n",
              "      <td>7.0</td>\n",
              "      <td>AR</td>\n",
              "      <td>34.894174</td>\n",
              "      <td>-92.441843</td>\n",
              "      <td>34.895526</td>\n",
              "      <td>-92.444626</td>\n",
              "    </tr>\n",
              "    <tr>\n",
              "      <th>4</th>\n",
              "      <td>G4000</td>\n",
              "      <td>2745218475066</td>\n",
              "      <td>6</td>\n",
              "      <td>6</td>\n",
              "      <td>1779778</td>\n",
              "      <td>California</td>\n",
              "      <td>California</td>\n",
              "      <td>0</td>\n",
              "      <td>A</td>\n",
              "      <td>403673658339</td>\n",
              "      <td>20291671562</td>\n",
              "      <td>NaN</td>\n",
              "      <td>4</td>\n",
              "      <td>9.0</td>\n",
              "      <td>CA</td>\n",
              "      <td>37.154758</td>\n",
              "      <td>-119.527772</td>\n",
              "      <td>37.155177</td>\n",
              "      <td>-119.543418</td>\n",
              "    </tr>\n",
              "  </tbody>\n",
              "</table>\n",
              "</div>\n",
              "      <button class=\"colab-df-convert\" onclick=\"convertToInteractive('df-e2b7cd7e-e87e-4d4d-9407-ce7048728297')\"\n",
              "              title=\"Convert this dataframe to an interactive table.\"\n",
              "              style=\"display:none;\">\n",
              "        \n",
              "  <svg xmlns=\"http://www.w3.org/2000/svg\" height=\"24px\"viewBox=\"0 0 24 24\"\n",
              "       width=\"24px\">\n",
              "    <path d=\"M0 0h24v24H0V0z\" fill=\"none\"/>\n",
              "    <path d=\"M18.56 5.44l.94 2.06.94-2.06 2.06-.94-2.06-.94-.94-2.06-.94 2.06-2.06.94zm-11 1L8.5 8.5l.94-2.06 2.06-.94-2.06-.94L8.5 2.5l-.94 2.06-2.06.94zm10 10l.94 2.06.94-2.06 2.06-.94-2.06-.94-.94-2.06-.94 2.06-2.06.94z\"/><path d=\"M17.41 7.96l-1.37-1.37c-.4-.4-.92-.59-1.43-.59-.52 0-1.04.2-1.43.59L10.3 9.45l-7.72 7.72c-.78.78-.78 2.05 0 2.83L4 21.41c.39.39.9.59 1.41.59.51 0 1.02-.2 1.41-.59l7.78-7.78 2.81-2.81c.8-.78.8-2.07 0-2.86zM5.41 20L4 18.59l7.72-7.72 1.47 1.35L5.41 20z\"/>\n",
              "  </svg>\n",
              "      </button>\n",
              "      \n",
              "  <style>\n",
              "    .colab-df-container {\n",
              "      display:flex;\n",
              "      flex-wrap:wrap;\n",
              "      gap: 12px;\n",
              "    }\n",
              "\n",
              "    .colab-df-convert {\n",
              "      background-color: #E8F0FE;\n",
              "      border: none;\n",
              "      border-radius: 50%;\n",
              "      cursor: pointer;\n",
              "      display: none;\n",
              "      fill: #1967D2;\n",
              "      height: 32px;\n",
              "      padding: 0 0 0 0;\n",
              "      width: 32px;\n",
              "    }\n",
              "\n",
              "    .colab-df-convert:hover {\n",
              "      background-color: #E2EBFA;\n",
              "      box-shadow: 0px 1px 2px rgba(60, 64, 67, 0.3), 0px 1px 3px 1px rgba(60, 64, 67, 0.15);\n",
              "      fill: #174EA6;\n",
              "    }\n",
              "\n",
              "    [theme=dark] .colab-df-convert {\n",
              "      background-color: #3B4455;\n",
              "      fill: #D2E3FC;\n",
              "    }\n",
              "\n",
              "    [theme=dark] .colab-df-convert:hover {\n",
              "      background-color: #434B5C;\n",
              "      box-shadow: 0px 1px 3px 1px rgba(0, 0, 0, 0.15);\n",
              "      filter: drop-shadow(0px 1px 2px rgba(0, 0, 0, 0.3));\n",
              "      fill: #FFFFFF;\n",
              "    }\n",
              "  </style>\n",
              "\n",
              "      <script>\n",
              "        const buttonEl =\n",
              "          document.querySelector('#df-e2b7cd7e-e87e-4d4d-9407-ce7048728297 button.colab-df-convert');\n",
              "        buttonEl.style.display =\n",
              "          google.colab.kernel.accessAllowed ? 'block' : 'none';\n",
              "\n",
              "        async function convertToInteractive(key) {\n",
              "          const element = document.querySelector('#df-e2b7cd7e-e87e-4d4d-9407-ce7048728297');\n",
              "          const dataTable =\n",
              "            await google.colab.kernel.invokeFunction('convertToInteractive',\n",
              "                                                     [key], {});\n",
              "          if (!dataTable) return;\n",
              "\n",
              "          const docLinkHtml = 'Like what you see? Visit the ' +\n",
              "            '<a target=\"_blank\" href=https://colab.research.google.com/notebooks/data_table.ipynb>data table notebook</a>'\n",
              "            + ' to learn more about interactive tables.';\n",
              "          element.innerHTML = '';\n",
              "          dataTable['output_type'] = 'display_data';\n",
              "          await google.colab.output.renderOutput(dataTable, element);\n",
              "          const docLink = document.createElement('div');\n",
              "          docLink.innerHTML = docLinkHtml;\n",
              "          element.appendChild(docLink);\n",
              "        }\n",
              "      </script>\n",
              "    </div>\n",
              "  </div>\n",
              "  "
            ]
          },
          "metadata": {},
          "execution_count": 16
        }
      ]
    },
    {
      "cell_type": "code",
      "source": [
        "state_df.info()"
      ],
      "metadata": {
        "colab": {
          "base_uri": "https://localhost:8080/"
        },
        "id": "DM5Xwb4ZIUBR",
        "outputId": "a721d585-5768-4b17-89bb-c37f5d8d62a8"
      },
      "execution_count": null,
      "outputs": [
        {
          "output_type": "stream",
          "name": "stdout",
          "text": [
            "<class 'pandas.core.frame.DataFrame'>\n",
            "RangeIndex: 56 entries, 0 to 55\n",
            "Data columns (total 19 columns):\n",
            " #   Column     Non-Null Count  Dtype  \n",
            "---  ------     --------------  -----  \n",
            " 0   MTFCC      56 non-null     object \n",
            " 1   OID        56 non-null     int64  \n",
            " 2   GEOID      56 non-null     int64  \n",
            " 3   STATE      56 non-null     int64  \n",
            " 4   STATENS    56 non-null     int64  \n",
            " 5   BASENAME   56 non-null     object \n",
            " 6   NAME       56 non-null     object \n",
            " 7   LSADC      56 non-null     int64  \n",
            " 8   FUNCSTAT   56 non-null     object \n",
            " 9   AREALAND   56 non-null     int64  \n",
            " 10  AREAWATER  56 non-null     int64  \n",
            " 11  UR         0 non-null      float64\n",
            " 12  REGION     56 non-null     int64  \n",
            " 13  DIVISION   51 non-null     float64\n",
            " 14  STUSAB     56 non-null     object \n",
            " 15  CENTLAT    56 non-null     float64\n",
            " 16  CENTLON    56 non-null     float64\n",
            " 17  INTPTLAT   56 non-null     float64\n",
            " 18  INTPTLON   56 non-null     float64\n",
            "dtypes: float64(6), int64(8), object(5)\n",
            "memory usage: 8.4+ KB\n"
          ]
        }
      ]
    },
    {
      "cell_type": "markdown",
      "source": [
        "## Shapefiles\n",
        "\n",
        "To read shapefiles we use the **GeoPandas** library. It's possible to read a zip file straight into a dataframe.\n",
        "\n",
        "Get the file name definitions [here](https://www2.census.gov/geo/tiger/TIGER2022/2022_TL_Shapefiles_File_Name_Definitions.pdf) for the directory name reference"
      ],
      "metadata": {
        "id": "KGpIRy4n5-I3"
      }
    },
    {
      "cell_type": "code",
      "source": [
        "# Prepare the query for the shapefile download\n",
        "\n",
        "host = 'https://www2.census.gov/geo/tiger/TIGER'\n",
        "year = '2022/'\n",
        "dir_name = 'STATE/'\n",
        "file_name = 'tl_2022_us_state.zip'\n",
        "\n",
        "url = f\"{host}{year}{dir_name}{file_name}\"\n",
        "url"
      ],
      "metadata": {
        "colab": {
          "base_uri": "https://localhost:8080/",
          "height": 35
        },
        "id": "W-IUp9AH6RbH",
        "outputId": "13ce41af-61b1-440f-c850-f2d8fe4fa050"
      },
      "execution_count": null,
      "outputs": [
        {
          "output_type": "execute_result",
          "data": {
            "text/plain": [
              "'https://www2.census.gov/geo/tiger/TIGER2022/STATE/tl_2022_us_state.zip'"
            ],
            "application/vnd.google.colaboratory.intrinsic+json": {
              "type": "string"
            }
          },
          "metadata": {},
          "execution_count": 19
        }
      ]
    },
    {
      "cell_type": "code",
      "source": [
        "states_gdf = gpd.read_file(url)\n",
        "\n",
        "states_gdf.head()"
      ],
      "metadata": {
        "colab": {
          "base_uri": "https://localhost:8080/",
          "height": 600
        },
        "id": "EheqtPhB_sCJ",
        "outputId": "e80e7b13-ab91-49e0-dacd-6f88dde4b460"
      },
      "execution_count": null,
      "outputs": [
        {
          "output_type": "execute_result",
          "data": {
            "text/plain": [
              "  REGION DIVISION STATEFP   STATENS GEOID STUSPS           NAME LSAD  MTFCC  \\\n",
              "0      3        5      54  01779805    54     WV  West Virginia   00  G4000   \n",
              "1      3        5      12  00294478    12     FL        Florida   00  G4000   \n",
              "2      2        3      17  01779784    17     IL       Illinois   00  G4000   \n",
              "3      2        4      27  00662849    27     MN      Minnesota   00  G4000   \n",
              "4      3        5      24  01714934    24     MD       Maryland   00  G4000   \n",
              "\n",
              "  FUNCSTAT         ALAND       AWATER     INTPTLAT      INTPTLON  \\\n",
              "0        A   62266456923    489045863  +38.6472854  -080.6183274   \n",
              "1        A  138962819934  45971472526  +28.3989775  -082.5143005   \n",
              "2        A  143778515726   6216539665  +40.1028754  -089.1526108   \n",
              "3        A  206244837557  18937184315  +46.3159573  -094.1996043   \n",
              "4        A   25151771744   6979295311  +38.9466584  -076.6744939   \n",
              "\n",
              "                                            geometry  \n",
              "0  POLYGON ((-77.75438 39.33346, -77.75422 39.333...  \n",
              "1  MULTIPOLYGON (((-83.10874 24.62949, -83.10711 ...  \n",
              "2  POLYGON ((-87.89243 38.28285, -87.89334 38.282...  \n",
              "3  POLYGON ((-95.31989 48.99892, -95.31747 48.998...  \n",
              "4  POLYGON ((-75.75600 39.24607, -75.75579 39.243...  "
            ],
            "text/html": [
              "\n",
              "  <div id=\"df-d4da1995-9681-4e63-b5be-93b8f3f2467f\">\n",
              "    <div class=\"colab-df-container\">\n",
              "      <div>\n",
              "<style scoped>\n",
              "    .dataframe tbody tr th:only-of-type {\n",
              "        vertical-align: middle;\n",
              "    }\n",
              "\n",
              "    .dataframe tbody tr th {\n",
              "        vertical-align: top;\n",
              "    }\n",
              "\n",
              "    .dataframe thead th {\n",
              "        text-align: right;\n",
              "    }\n",
              "</style>\n",
              "<table border=\"1\" class=\"dataframe\">\n",
              "  <thead>\n",
              "    <tr style=\"text-align: right;\">\n",
              "      <th></th>\n",
              "      <th>REGION</th>\n",
              "      <th>DIVISION</th>\n",
              "      <th>STATEFP</th>\n",
              "      <th>STATENS</th>\n",
              "      <th>GEOID</th>\n",
              "      <th>STUSPS</th>\n",
              "      <th>NAME</th>\n",
              "      <th>LSAD</th>\n",
              "      <th>MTFCC</th>\n",
              "      <th>FUNCSTAT</th>\n",
              "      <th>ALAND</th>\n",
              "      <th>AWATER</th>\n",
              "      <th>INTPTLAT</th>\n",
              "      <th>INTPTLON</th>\n",
              "      <th>geometry</th>\n",
              "    </tr>\n",
              "  </thead>\n",
              "  <tbody>\n",
              "    <tr>\n",
              "      <th>0</th>\n",
              "      <td>3</td>\n",
              "      <td>5</td>\n",
              "      <td>54</td>\n",
              "      <td>01779805</td>\n",
              "      <td>54</td>\n",
              "      <td>WV</td>\n",
              "      <td>West Virginia</td>\n",
              "      <td>00</td>\n",
              "      <td>G4000</td>\n",
              "      <td>A</td>\n",
              "      <td>62266456923</td>\n",
              "      <td>489045863</td>\n",
              "      <td>+38.6472854</td>\n",
              "      <td>-080.6183274</td>\n",
              "      <td>POLYGON ((-77.75438 39.33346, -77.75422 39.333...</td>\n",
              "    </tr>\n",
              "    <tr>\n",
              "      <th>1</th>\n",
              "      <td>3</td>\n",
              "      <td>5</td>\n",
              "      <td>12</td>\n",
              "      <td>00294478</td>\n",
              "      <td>12</td>\n",
              "      <td>FL</td>\n",
              "      <td>Florida</td>\n",
              "      <td>00</td>\n",
              "      <td>G4000</td>\n",
              "      <td>A</td>\n",
              "      <td>138962819934</td>\n",
              "      <td>45971472526</td>\n",
              "      <td>+28.3989775</td>\n",
              "      <td>-082.5143005</td>\n",
              "      <td>MULTIPOLYGON (((-83.10874 24.62949, -83.10711 ...</td>\n",
              "    </tr>\n",
              "    <tr>\n",
              "      <th>2</th>\n",
              "      <td>2</td>\n",
              "      <td>3</td>\n",
              "      <td>17</td>\n",
              "      <td>01779784</td>\n",
              "      <td>17</td>\n",
              "      <td>IL</td>\n",
              "      <td>Illinois</td>\n",
              "      <td>00</td>\n",
              "      <td>G4000</td>\n",
              "      <td>A</td>\n",
              "      <td>143778515726</td>\n",
              "      <td>6216539665</td>\n",
              "      <td>+40.1028754</td>\n",
              "      <td>-089.1526108</td>\n",
              "      <td>POLYGON ((-87.89243 38.28285, -87.89334 38.282...</td>\n",
              "    </tr>\n",
              "    <tr>\n",
              "      <th>3</th>\n",
              "      <td>2</td>\n",
              "      <td>4</td>\n",
              "      <td>27</td>\n",
              "      <td>00662849</td>\n",
              "      <td>27</td>\n",
              "      <td>MN</td>\n",
              "      <td>Minnesota</td>\n",
              "      <td>00</td>\n",
              "      <td>G4000</td>\n",
              "      <td>A</td>\n",
              "      <td>206244837557</td>\n",
              "      <td>18937184315</td>\n",
              "      <td>+46.3159573</td>\n",
              "      <td>-094.1996043</td>\n",
              "      <td>POLYGON ((-95.31989 48.99892, -95.31747 48.998...</td>\n",
              "    </tr>\n",
              "    <tr>\n",
              "      <th>4</th>\n",
              "      <td>3</td>\n",
              "      <td>5</td>\n",
              "      <td>24</td>\n",
              "      <td>01714934</td>\n",
              "      <td>24</td>\n",
              "      <td>MD</td>\n",
              "      <td>Maryland</td>\n",
              "      <td>00</td>\n",
              "      <td>G4000</td>\n",
              "      <td>A</td>\n",
              "      <td>25151771744</td>\n",
              "      <td>6979295311</td>\n",
              "      <td>+38.9466584</td>\n",
              "      <td>-076.6744939</td>\n",
              "      <td>POLYGON ((-75.75600 39.24607, -75.75579 39.243...</td>\n",
              "    </tr>\n",
              "  </tbody>\n",
              "</table>\n",
              "</div>\n",
              "      <button class=\"colab-df-convert\" onclick=\"convertToInteractive('df-d4da1995-9681-4e63-b5be-93b8f3f2467f')\"\n",
              "              title=\"Convert this dataframe to an interactive table.\"\n",
              "              style=\"display:none;\">\n",
              "        \n",
              "  <svg xmlns=\"http://www.w3.org/2000/svg\" height=\"24px\"viewBox=\"0 0 24 24\"\n",
              "       width=\"24px\">\n",
              "    <path d=\"M0 0h24v24H0V0z\" fill=\"none\"/>\n",
              "    <path d=\"M18.56 5.44l.94 2.06.94-2.06 2.06-.94-2.06-.94-.94-2.06-.94 2.06-2.06.94zm-11 1L8.5 8.5l.94-2.06 2.06-.94-2.06-.94L8.5 2.5l-.94 2.06-2.06.94zm10 10l.94 2.06.94-2.06 2.06-.94-2.06-.94-.94-2.06-.94 2.06-2.06.94z\"/><path d=\"M17.41 7.96l-1.37-1.37c-.4-.4-.92-.59-1.43-.59-.52 0-1.04.2-1.43.59L10.3 9.45l-7.72 7.72c-.78.78-.78 2.05 0 2.83L4 21.41c.39.39.9.59 1.41.59.51 0 1.02-.2 1.41-.59l7.78-7.78 2.81-2.81c.8-.78.8-2.07 0-2.86zM5.41 20L4 18.59l7.72-7.72 1.47 1.35L5.41 20z\"/>\n",
              "  </svg>\n",
              "      </button>\n",
              "      \n",
              "  <style>\n",
              "    .colab-df-container {\n",
              "      display:flex;\n",
              "      flex-wrap:wrap;\n",
              "      gap: 12px;\n",
              "    }\n",
              "\n",
              "    .colab-df-convert {\n",
              "      background-color: #E8F0FE;\n",
              "      border: none;\n",
              "      border-radius: 50%;\n",
              "      cursor: pointer;\n",
              "      display: none;\n",
              "      fill: #1967D2;\n",
              "      height: 32px;\n",
              "      padding: 0 0 0 0;\n",
              "      width: 32px;\n",
              "    }\n",
              "\n",
              "    .colab-df-convert:hover {\n",
              "      background-color: #E2EBFA;\n",
              "      box-shadow: 0px 1px 2px rgba(60, 64, 67, 0.3), 0px 1px 3px 1px rgba(60, 64, 67, 0.15);\n",
              "      fill: #174EA6;\n",
              "    }\n",
              "\n",
              "    [theme=dark] .colab-df-convert {\n",
              "      background-color: #3B4455;\n",
              "      fill: #D2E3FC;\n",
              "    }\n",
              "\n",
              "    [theme=dark] .colab-df-convert:hover {\n",
              "      background-color: #434B5C;\n",
              "      box-shadow: 0px 1px 3px 1px rgba(0, 0, 0, 0.15);\n",
              "      filter: drop-shadow(0px 1px 2px rgba(0, 0, 0, 0.3));\n",
              "      fill: #FFFFFF;\n",
              "    }\n",
              "  </style>\n",
              "\n",
              "      <script>\n",
              "        const buttonEl =\n",
              "          document.querySelector('#df-d4da1995-9681-4e63-b5be-93b8f3f2467f button.colab-df-convert');\n",
              "        buttonEl.style.display =\n",
              "          google.colab.kernel.accessAllowed ? 'block' : 'none';\n",
              "\n",
              "        async function convertToInteractive(key) {\n",
              "          const element = document.querySelector('#df-d4da1995-9681-4e63-b5be-93b8f3f2467f');\n",
              "          const dataTable =\n",
              "            await google.colab.kernel.invokeFunction('convertToInteractive',\n",
              "                                                     [key], {});\n",
              "          if (!dataTable) return;\n",
              "\n",
              "          const docLinkHtml = 'Like what you see? Visit the ' +\n",
              "            '<a target=\"_blank\" href=https://colab.research.google.com/notebooks/data_table.ipynb>data table notebook</a>'\n",
              "            + ' to learn more about interactive tables.';\n",
              "          element.innerHTML = '';\n",
              "          dataTable['output_type'] = 'display_data';\n",
              "          await google.colab.output.renderOutput(dataTable, element);\n",
              "          const docLink = document.createElement('div');\n",
              "          docLink.innerHTML = docLinkHtml;\n",
              "          element.appendChild(docLink);\n",
              "        }\n",
              "      </script>\n",
              "    </div>\n",
              "  </div>\n",
              "  "
            ]
          },
          "metadata": {},
          "execution_count": 20
        }
      ]
    },
    {
      "cell_type": "code",
      "source": [
        "states_gdf.shape"
      ],
      "metadata": {
        "colab": {
          "base_uri": "https://localhost:8080/"
        },
        "id": "rr7UAQ1RBflk",
        "outputId": "2acc0a5c-d838-4a8a-ac7d-b2c49ef13dbc"
      },
      "execution_count": null,
      "outputs": [
        {
          "output_type": "execute_result",
          "data": {
            "text/plain": [
              "(56, 15)"
            ]
          },
          "metadata": {},
          "execution_count": 21
        }
      ]
    },
    {
      "cell_type": "code",
      "source": [
        "fig, ax = plt.subplots(figsize=(10,10))\n",
        "states_gdf.plot(ax=ax)"
      ],
      "metadata": {
        "colab": {
          "base_uri": "https://localhost:8080/",
          "height": 218
        },
        "id": "WAxS3AZfAu_p",
        "outputId": "9fbd06ec-2abf-4be4-d6d6-9d069ddbd5df"
      },
      "execution_count": null,
      "outputs": [
        {
          "output_type": "execute_result",
          "data": {
            "text/plain": [
              "<matplotlib.axes._subplots.AxesSubplot at 0x7f3f087493a0>"
            ]
          },
          "metadata": {},
          "execution_count": 58
        },
        {
          "output_type": "display_data",
          "data": {
            "text/plain": [
              "<Figure size 720x720 with 1 Axes>"
            ],
            "image/png": "[encoded data removed]"
          },
          "metadata": {
            "needs_background": "light"
          }
        }
      ]
    },
    {
      "cell_type": "code",
      "source": [
        "states_gdf[states_gdf['NAME']=='California']"
      ],
      "metadata": {
        "colab": {
          "base_uri": "https://localhost:8080/",
          "height": 197
        },
        "id": "j4IEoF9OCR-p",
        "outputId": "b6697001-6ee7-4b43-c8d1-451c54a3a0c0"
      },
      "execution_count": null,
      "outputs": [
        {
          "output_type": "execute_result",
          "data": {
            "text/plain": [
              "   REGION DIVISION STATEFP   STATENS GEOID STUSPS        NAME LSAD  MTFCC  \\\n",
              "13      4        9      06  01779778    06     CA  California   00  G4000   \n",
              "\n",
              "   FUNCSTAT         ALAND       AWATER     INTPTLAT      INTPTLON  \\\n",
              "13        A  403673617862  20291712025  +37.1551773  -119.5434183   \n",
              "\n",
              "                                             geometry  \n",
              "13  MULTIPOLYGON (((-119.99987 41.18397, -119.9998...  "
            ],
            "text/html": [
              "\n",
              "  <div id=\"df-5e8982f0-0820-43a2-8fc7-9681bbc6695e\">\n",
              "    <div class=\"colab-df-container\">\n",
              "      <div>\n",
              "<style scoped>\n",
              "    .dataframe tbody tr th:only-of-type {\n",
              "        vertical-align: middle;\n",
              "    }\n",
              "\n",
              "    .dataframe tbody tr th {\n",
              "        vertical-align: top;\n",
              "    }\n",
              "\n",
              "    .dataframe thead th {\n",
              "        text-align: right;\n",
              "    }\n",
              "</style>\n",
              "<table border=\"1\" class=\"dataframe\">\n",
              "  <thead>\n",
              "    <tr style=\"text-align: right;\">\n",
              "      <th></th>\n",
              "      <th>REGION</th>\n",
              "      <th>DIVISION</th>\n",
              "      <th>STATEFP</th>\n",
              "      <th>STATENS</th>\n",
              "      <th>GEOID</th>\n",
              "      <th>STUSPS</th>\n",
              "      <th>NAME</th>\n",
              "      <th>LSAD</th>\n",
              "      <th>MTFCC</th>\n",
              "      <th>FUNCSTAT</th>\n",
              "      <th>ALAND</th>\n",
              "      <th>AWATER</th>\n",
              "      <th>INTPTLAT</th>\n",
              "      <th>INTPTLON</th>\n",
              "      <th>geometry</th>\n",
              "    </tr>\n",
              "  </thead>\n",
              "  <tbody>\n",
              "    <tr>\n",
              "      <th>13</th>\n",
              "      <td>4</td>\n",
              "      <td>9</td>\n",
              "      <td>06</td>\n",
              "      <td>01779778</td>\n",
              "      <td>06</td>\n",
              "      <td>CA</td>\n",
              "      <td>California</td>\n",
              "      <td>00</td>\n",
              "      <td>G4000</td>\n",
              "      <td>A</td>\n",
              "      <td>403673617862</td>\n",
              "      <td>20291712025</td>\n",
              "      <td>+37.1551773</td>\n",
              "      <td>-119.5434183</td>\n",
              "      <td>MULTIPOLYGON (((-119.99987 41.18397, -119.9998...</td>\n",
              "    </tr>\n",
              "  </tbody>\n",
              "</table>\n",
              "</div>\n",
              "      <button class=\"colab-df-convert\" onclick=\"convertToInteractive('df-5e8982f0-0820-43a2-8fc7-9681bbc6695e')\"\n",
              "              title=\"Convert this dataframe to an interactive table.\"\n",
              "              style=\"display:none;\">\n",
              "        \n",
              "  <svg xmlns=\"http://www.w3.org/2000/svg\" height=\"24px\"viewBox=\"0 0 24 24\"\n",
              "       width=\"24px\">\n",
              "    <path d=\"M0 0h24v24H0V0z\" fill=\"none\"/>\n",
              "    <path d=\"M18.56 5.44l.94 2.06.94-2.06 2.06-.94-2.06-.94-.94-2.06-.94 2.06-2.06.94zm-11 1L8.5 8.5l.94-2.06 2.06-.94-2.06-.94L8.5 2.5l-.94 2.06-2.06.94zm10 10l.94 2.06.94-2.06 2.06-.94-2.06-.94-.94-2.06-.94 2.06-2.06.94z\"/><path d=\"M17.41 7.96l-1.37-1.37c-.4-.4-.92-.59-1.43-.59-.52 0-1.04.2-1.43.59L10.3 9.45l-7.72 7.72c-.78.78-.78 2.05 0 2.83L4 21.41c.39.39.9.59 1.41.59.51 0 1.02-.2 1.41-.59l7.78-7.78 2.81-2.81c.8-.78.8-2.07 0-2.86zM5.41 20L4 18.59l7.72-7.72 1.47 1.35L5.41 20z\"/>\n",
              "  </svg>\n",
              "      </button>\n",
              "      \n",
              "  <style>\n",
              "    .colab-df-container {\n",
              "      display:flex;\n",
              "      flex-wrap:wrap;\n",
              "      gap: 12px;\n",
              "    }\n",
              "\n",
              "    .colab-df-convert {\n",
              "      background-color: #E8F0FE;\n",
              "      border: none;\n",
              "      border-radius: 50%;\n",
              "      cursor: pointer;\n",
              "      display: none;\n",
              "      fill: #1967D2;\n",
              "      height: 32px;\n",
              "      padding: 0 0 0 0;\n",
              "      width: 32px;\n",
              "    }\n",
              "\n",
              "    .colab-df-convert:hover {\n",
              "      background-color: #E2EBFA;\n",
              "      box-shadow: 0px 1px 2px rgba(60, 64, 67, 0.3), 0px 1px 3px 1px rgba(60, 64, 67, 0.15);\n",
              "      fill: #174EA6;\n",
              "    }\n",
              "\n",
              "    [theme=dark] .colab-df-convert {\n",
              "      background-color: #3B4455;\n",
              "      fill: #D2E3FC;\n",
              "    }\n",
              "\n",
              "    [theme=dark] .colab-df-convert:hover {\n",
              "      background-color: #434B5C;\n",
              "      box-shadow: 0px 1px 3px 1px rgba(0, 0, 0, 0.15);\n",
              "      filter: drop-shadow(0px 1px 2px rgba(0, 0, 0, 0.3));\n",
              "      fill: #FFFFFF;\n",
              "    }\n",
              "  </style>\n",
              "\n",
              "      <script>\n",
              "        const buttonEl =\n",
              "          document.querySelector('#df-5e8982f0-0820-43a2-8fc7-9681bbc6695e button.colab-df-convert');\n",
              "        buttonEl.style.display =\n",
              "          google.colab.kernel.accessAllowed ? 'block' : 'none';\n",
              "\n",
              "        async function convertToInteractive(key) {\n",
              "          const element = document.querySelector('#df-5e8982f0-0820-43a2-8fc7-9681bbc6695e');\n",
              "          const dataTable =\n",
              "            await google.colab.kernel.invokeFunction('convertToInteractive',\n",
              "                                                     [key], {});\n",
              "          if (!dataTable) return;\n",
              "\n",
              "          const docLinkHtml = 'Like what you see? Visit the ' +\n",
              "            '<a target=\"_blank\" href=https://colab.research.google.com/notebooks/data_table.ipynb>data table notebook</a>'\n",
              "            + ' to learn more about interactive tables.';\n",
              "          element.innerHTML = '';\n",
              "          dataTable['output_type'] = 'display_data';\n",
              "          await google.colab.output.renderOutput(dataTable, element);\n",
              "          const docLink = document.createElement('div');\n",
              "          docLink.innerHTML = docLinkHtml;\n",
              "          element.appendChild(docLink);\n",
              "        }\n",
              "      </script>\n",
              "    </div>\n",
              "  </div>\n",
              "  "
            ]
          },
          "metadata": {},
          "execution_count": 24
        }
      ]
    },
    {
      "cell_type": "code",
      "source": [
        "# check data original projection\n",
        "\n",
        "states_gdf.crs"
      ],
      "metadata": {
        "colab": {
          "base_uri": "https://localhost:8080/"
        },
        "id": "s7Bm1SmXKOmk",
        "outputId": "2c450e26-4a00-43cf-dfbf-9557ec4f74a2"
      },
      "execution_count": null,
      "outputs": [
        {
          "output_type": "execute_result",
          "data": {
            "text/plain": [
              "<Geographic 2D CRS: EPSG:4269>\n",
              "Name: NAD83\n",
              "Axis Info [ellipsoidal]:\n",
              "- Lat[north]: Geodetic latitude (degree)\n",
              "- Lon[east]: Geodetic longitude (degree)\n",
              "Area of Use:\n",
              "- name: North America - onshore and offshore: Canada - Alberta; British Columbia; Manitoba; New Brunswick; Newfoundland and Labrador; Northwest Territories; Nova Scotia; Nunavut; Ontario; Prince Edward Island; Quebec; Saskatchewan; Yukon. Puerto Rico. United States (USA) - Alabama; Alaska; Arizona; Arkansas; California; Colorado; Connecticut; Delaware; Florida; Georgia; Hawaii; Idaho; Illinois; Indiana; Iowa; Kansas; Kentucky; Louisiana; Maine; Maryland; Massachusetts; Michigan; Minnesota; Mississippi; Missouri; Montana; Nebraska; Nevada; New Hampshire; New Jersey; New Mexico; New York; North Carolina; North Dakota; Ohio; Oklahoma; Oregon; Pennsylvania; Rhode Island; South Carolina; South Dakota; Tennessee; Texas; Utah; Vermont; Virginia; Washington; West Virginia; Wisconsin; Wyoming. US Virgin Islands. British Virgin Islands.\n",
              "- bounds: (167.65, 14.92, -40.73, 86.45)\n",
              "Datum: North American Datum 1983\n",
              "- Ellipsoid: GRS 1980\n",
              "- Prime Meridian: Greenwich"
            ]
          },
          "metadata": {},
          "execution_count": 25
        }
      ]
    },
    {
      "cell_type": "markdown",
      "source": [
        "# Merging DataFrames\n",
        "\n",
        "Attribute joins are accomplished using the `merge()` method. In general, it is recommended to use the `merge()` method called from the spatial dataset. \n",
        "\n",
        "The stand-alone `pandas.merge()` function will work if the **GeoDataFrame** is in the **left** argument; if a DataFrame is in the left argument and a GeoDataFrame is in the right position, the result will no longer be a GeoDataFrame.\n"
      ],
      "metadata": {
        "id": "N0Mdp5fwEmpJ"
      }
    },
    {
      "cell_type": "code",
      "source": [
        "# Merge the 2021 ASC data with the 2010 Tiger data\n",
        "\n",
        "states_pop_gdf = states_gdf.merge(population_df, on='NAME')\n",
        "\n",
        "states_pop_gdf.info()"
      ],
      "metadata": {
        "colab": {
          "base_uri": "https://localhost:8080/"
        },
        "id": "PUef0aUsE6Xy",
        "outputId": "8b1783ec-881c-4de1-f282-2a2161f063bc"
      },
      "execution_count": null,
      "outputs": [
        {
          "output_type": "stream",
          "name": "stdout",
          "text": [
            "<class 'geopandas.geodataframe.GeoDataFrame'>\n",
            "Int64Index: 52 entries, 0 to 51\n",
            "Data columns (total 17 columns):\n",
            " #   Column            Non-Null Count  Dtype   \n",
            "---  ------            --------------  -----   \n",
            " 0   REGION            52 non-null     object  \n",
            " 1   DIVISION          52 non-null     object  \n",
            " 2   STATEFP           52 non-null     object  \n",
            " 3   STATENS           52 non-null     object  \n",
            " 4   GEOID             52 non-null     object  \n",
            " 5   STUSPS            52 non-null     object  \n",
            " 6   NAME              52 non-null     object  \n",
            " 7   LSAD              52 non-null     object  \n",
            " 8   MTFCC             52 non-null     object  \n",
            " 9   FUNCSTAT          52 non-null     object  \n",
            " 10  ALAND             52 non-null     int64   \n",
            " 11  AWATER            52 non-null     int64   \n",
            " 12  INTPTLAT          52 non-null     object  \n",
            " 13  INTPTLON          52 non-null     object  \n",
            " 14  geometry          52 non-null     geometry\n",
            " 15  total_population  52 non-null     int64   \n",
            " 16  fips              52 non-null     int64   \n",
            "dtypes: geometry(1), int64(4), object(12)\n",
            "memory usage: 7.3+ KB\n"
          ]
        }
      ]
    },
    {
      "cell_type": "code",
      "source": [
        "# Drop the unnecessary columns \n",
        "columns_lst = ['REGION', 'DIVISION', 'STATEFP', 'STATENS', 'GEOID', 'STUSPS',\n",
        "       'LSAD', 'MTFCC', 'FUNCSTAT', 'ALAND', 'AWATER']\n",
        "\n",
        "states_pop_gdf.drop(columns=columns_lst, inplace=True)\n",
        "\n",
        "states_pop_gdf.head()"
      ],
      "metadata": {
        "colab": {
          "base_uri": "https://localhost:8080/",
          "height": 580
        },
        "id": "MT6FHtwdQMZ9",
        "outputId": "002fed6f-a7d4-42b3-c9f8-312fe113228d"
      },
      "execution_count": null,
      "outputs": [
        {
          "output_type": "execute_result",
          "data": {
            "text/plain": [
              "            NAME     INTPTLAT      INTPTLON  \\\n",
              "0  West Virginia  +38.6472854  -080.6183274   \n",
              "1        Florida  +28.3989775  -082.5143005   \n",
              "2       Illinois  +40.1028754  -089.1526108   \n",
              "3      Minnesota  +46.3159573  -094.1996043   \n",
              "4       Maryland  +38.9466584  -076.6744939   \n",
              "\n",
              "                                            geometry  total_population  fips  \n",
              "0  POLYGON ((-77.75438 39.33346, -77.75422 39.333...           1782959    54  \n",
              "1  MULTIPOLYGON (((-83.10874 24.62949, -83.10711 ...          21781128    12  \n",
              "2  POLYGON ((-87.89243 38.28285, -87.89334 38.282...          12671469    17  \n",
              "3  POLYGON ((-95.31989 48.99892, -95.31747 48.998...           5707390    27  \n",
              "4  POLYGON ((-75.75600 39.24607, -75.75579 39.243...           6165129    24  "
            ],
            "text/html": [
              "\n",
              "  <div id=\"df-651e4eaf-a7ae-4648-aadf-335d35884abc\">\n",
              "    <div class=\"colab-df-container\">\n",
              "      <div>\n",
              "<style scoped>\n",
              "    .dataframe tbody tr th:only-of-type {\n",
              "        vertical-align: middle;\n",
              "    }\n",
              "\n",
              "    .dataframe tbody tr th {\n",
              "        vertical-align: top;\n",
              "    }\n",
              "\n",
              "    .dataframe thead th {\n",
              "        text-align: right;\n",
              "    }\n",
              "</style>\n",
              "<table border=\"1\" class=\"dataframe\">\n",
              "  <thead>\n",
              "    <tr style=\"text-align: right;\">\n",
              "      <th></th>\n",
              "      <th>NAME</th>\n",
              "      <th>INTPTLAT</th>\n",
              "      <th>INTPTLON</th>\n",
              "      <th>geometry</th>\n",
              "      <th>total_population</th>\n",
              "      <th>fips</th>\n",
              "    </tr>\n",
              "  </thead>\n",
              "  <tbody>\n",
              "    <tr>\n",
              "      <th>0</th>\n",
              "      <td>West Virginia</td>\n",
              "      <td>+38.6472854</td>\n",
              "      <td>-080.6183274</td>\n",
              "      <td>POLYGON ((-77.75438 39.33346, -77.75422 39.333...</td>\n",
              "      <td>1782959</td>\n",
              "      <td>54</td>\n",
              "    </tr>\n",
              "    <tr>\n",
              "      <th>1</th>\n",
              "      <td>Florida</td>\n",
              "      <td>+28.3989775</td>\n",
              "      <td>-082.5143005</td>\n",
              "      <td>MULTIPOLYGON (((-83.10874 24.62949, -83.10711 ...</td>\n",
              "      <td>21781128</td>\n",
              "      <td>12</td>\n",
              "    </tr>\n",
              "    <tr>\n",
              "      <th>2</th>\n",
              "      <td>Illinois</td>\n",
              "      <td>+40.1028754</td>\n",
              "      <td>-089.1526108</td>\n",
              "      <td>POLYGON ((-87.89243 38.28285, -87.89334 38.282...</td>\n",
              "      <td>12671469</td>\n",
              "      <td>17</td>\n",
              "    </tr>\n",
              "    <tr>\n",
              "      <th>3</th>\n",
              "      <td>Minnesota</td>\n",
              "      <td>+46.3159573</td>\n",
              "      <td>-094.1996043</td>\n",
              "      <td>POLYGON ((-95.31989 48.99892, -95.31747 48.998...</td>\n",
              "      <td>5707390</td>\n",
              "      <td>27</td>\n",
              "    </tr>\n",
              "    <tr>\n",
              "      <th>4</th>\n",
              "      <td>Maryland</td>\n",
              "      <td>+38.9466584</td>\n",
              "      <td>-076.6744939</td>\n",
              "      <td>POLYGON ((-75.75600 39.24607, -75.75579 39.243...</td>\n",
              "      <td>6165129</td>\n",
              "      <td>24</td>\n",
              "    </tr>\n",
              "  </tbody>\n",
              "</table>\n",
              "</div>\n",
              "      <button class=\"colab-df-convert\" onclick=\"convertToInteractive('df-651e4eaf-a7ae-4648-aadf-335d35884abc')\"\n",
              "              title=\"Convert this dataframe to an interactive table.\"\n",
              "              style=\"display:none;\">\n",
              "        \n",
              "  <svg xmlns=\"http://www.w3.org/2000/svg\" height=\"24px\"viewBox=\"0 0 24 24\"\n",
              "       width=\"24px\">\n",
              "    <path d=\"M0 0h24v24H0V0z\" fill=\"none\"/>\n",
              "    <path d=\"M18.56 5.44l.94 2.06.94-2.06 2.06-.94-2.06-.94-.94-2.06-.94 2.06-2.06.94zm-11 1L8.5 8.5l.94-2.06 2.06-.94-2.06-.94L8.5 2.5l-.94 2.06-2.06.94zm10 10l.94 2.06.94-2.06 2.06-.94-2.06-.94-.94-2.06-.94 2.06-2.06.94z\"/><path d=\"M17.41 7.96l-1.37-1.37c-.4-.4-.92-.59-1.43-.59-.52 0-1.04.2-1.43.59L10.3 9.45l-7.72 7.72c-.78.78-.78 2.05 0 2.83L4 21.41c.39.39.9.59 1.41.59.51 0 1.02-.2 1.41-.59l7.78-7.78 2.81-2.81c.8-.78.8-2.07 0-2.86zM5.41 20L4 18.59l7.72-7.72 1.47 1.35L5.41 20z\"/>\n",
              "  </svg>\n",
              "      </button>\n",
              "      \n",
              "  <style>\n",
              "    .colab-df-container {\n",
              "      display:flex;\n",
              "      flex-wrap:wrap;\n",
              "      gap: 12px;\n",
              "    }\n",
              "\n",
              "    .colab-df-convert {\n",
              "      background-color: #E8F0FE;\n",
              "      border: none;\n",
              "      border-radius: 50%;\n",
              "      cursor: pointer;\n",
              "      display: none;\n",
              "      fill: #1967D2;\n",
              "      height: 32px;\n",
              "      padding: 0 0 0 0;\n",
              "      width: 32px;\n",
              "    }\n",
              "\n",
              "    .colab-df-convert:hover {\n",
              "      background-color: #E2EBFA;\n",
              "      box-shadow: 0px 1px 2px rgba(60, 64, 67, 0.3), 0px 1px 3px 1px rgba(60, 64, 67, 0.15);\n",
              "      fill: #174EA6;\n",
              "    }\n",
              "\n",
              "    [theme=dark] .colab-df-convert {\n",
              "      background-color: #3B4455;\n",
              "      fill: #D2E3FC;\n",
              "    }\n",
              "\n",
              "    [theme=dark] .colab-df-convert:hover {\n",
              "      background-color: #434B5C;\n",
              "      box-shadow: 0px 1px 3px 1px rgba(0, 0, 0, 0.15);\n",
              "      filter: drop-shadow(0px 1px 2px rgba(0, 0, 0, 0.3));\n",
              "      fill: #FFFFFF;\n",
              "    }\n",
              "  </style>\n",
              "\n",
              "      <script>\n",
              "        const buttonEl =\n",
              "          document.querySelector('#df-651e4eaf-a7ae-4648-aadf-335d35884abc button.colab-df-convert');\n",
              "        buttonEl.style.display =\n",
              "          google.colab.kernel.accessAllowed ? 'block' : 'none';\n",
              "\n",
              "        async function convertToInteractive(key) {\n",
              "          const element = document.querySelector('#df-651e4eaf-a7ae-4648-aadf-335d35884abc');\n",
              "          const dataTable =\n",
              "            await google.colab.kernel.invokeFunction('convertToInteractive',\n",
              "                                                     [key], {});\n",
              "          if (!dataTable) return;\n",
              "\n",
              "          const docLinkHtml = 'Like what you see? Visit the ' +\n",
              "            '<a target=\"_blank\" href=https://colab.research.google.com/notebooks/data_table.ipynb>data table notebook</a>'\n",
              "            + ' to learn more about interactive tables.';\n",
              "          element.innerHTML = '';\n",
              "          dataTable['output_type'] = 'display_data';\n",
              "          await google.colab.output.renderOutput(dataTable, element);\n",
              "          const docLink = document.createElement('div');\n",
              "          docLink.innerHTML = docLinkHtml;\n",
              "          element.appendChild(docLink);\n",
              "        }\n",
              "      </script>\n",
              "    </div>\n",
              "  </div>\n",
              "  "
            ]
          },
          "metadata": {},
          "execution_count": 27
        }
      ]
    },
    {
      "cell_type": "code",
      "source": [
        "# Plot population per state\n",
        "# import mapclassify\n",
        "# from mpl_toolkits.axes_grid1 import make_axes_locatable\n",
        "\n",
        "fig, ax = plt.subplots(figsize=(20,20))\n",
        "# fig.suptitle(\"Total Population by State in 2021\")\n",
        "# divider = make_axes_locatable(ax)\n",
        "# cax = divider.append_axes(\"right\", size=\"50%\", pad=0.1)\n",
        "\n",
        "states_pop_gdf.plot(column='total_population', \n",
        "                    scheme= 'quantiles', \n",
        "                    k=10,\n",
        "                    linewidth=0.1, \n",
        "                    missing_kwds={'color': 'lightgrey'},\n",
        "                    alpha=0.8, \n",
        "                    legend=True,\n",
        "                    # cax=cax,\n",
        "                    ax=ax, \n",
        "                    legend_kwds= {'title': \"Total Population by State in 2021\"}\n",
        "                    )"
      ],
      "metadata": {
        "colab": {
          "base_uri": "https://localhost:8080/",
          "height": 180
        },
        "id": "8RSvu1tlQ7dn",
        "outputId": "c5f40041-d814-4d00-da7c-948b8fd7510f"
      },
      "execution_count": null,
      "outputs": [
        {
          "output_type": "execute_result",
          "data": {
            "text/plain": [
              "<matplotlib.axes._subplots.AxesSubplot at 0x7f3f080516a0>"
            ]
          },
          "metadata": {},
          "execution_count": 71
        },
        {
          "output_type": "display_data",
          "data": {
            "text/plain": [
              "<Figure size 1440x1440 with 1 Axes>"
            ],
            "image/png": "[encoded data removed]"
          },
          "metadata": {
            "needs_background": "light"
          }
        }
      ]
    }
  ]
}